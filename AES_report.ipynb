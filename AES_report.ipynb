{
  "cells": [
    {
      "cell_type": "code",
      "execution_count": 44,
      "id": "20b6d87d-7a22-494c-b59d-48360af63b49",
      "metadata": {
        "id": "20b6d87d-7a22-494c-b59d-48360af63b49"
      },
      "outputs": [],
      "source": [
        "state= [\n",
        "    ['Y', '0', 'U', 'T'],\n",
        "    ['A', 'E', 'Y', 'O'],\n",
        "    ['U', 'N', 'G', '1'],\n",
        "    ['2', '3', '4', '4']\n",
        "]"
      ]
    },
    {
      "cell_type": "code",
      "execution_count": 45,
      "id": "3f9fdc02-8d8c-4c1c-8b45-4d3578d5721d",
      "metadata": {
        "id": "3f9fdc02-8d8c-4c1c-8b45-4d3578d5721d"
      },
      "outputs": [],
      "source": [
        "S_Box = [\n",
        "  0x63 ,0x7c ,0x77 ,0x7b ,0xf2 ,0x6b ,0x6f ,0xc5 ,0x30 ,0x01 ,0x67 ,0x2b ,0xfe ,0xd7 ,0xab ,0x76,\n",
        "  0xca ,0x82 ,0xc9 ,0x7d ,0xfa ,0x59 ,0x47 ,0xf0 ,0xad ,0xd4 ,0xa2 ,0xaf ,0x9c ,0xa4 ,0x72 ,0xc0,\n",
        "  0xb7 ,0xfd ,0x93 ,0x26 ,0x36 ,0x3f ,0xf7 ,0xcc ,0x34 ,0xa5 ,0xe5 ,0xf1 ,0x71 ,0xd8 ,0x31 ,0x15,\n",
        "  0x04 ,0xc7 ,0x23 ,0xc3 ,0x18 ,0x96 ,0x05 ,0x9a ,0x07 ,0x12 ,0x80 ,0xe2 ,0xeb ,0x27 ,0xb2 ,0x75,\n",
        "  0x09 ,0x83 ,0x2c ,0x1a ,0x1b ,0x6e ,0x5a ,0xa0 ,0x52 ,0x3b ,0xd6 ,0xb3 ,0x29 ,0xe3 ,0x2f ,0x84,\n",
        "  0x53 ,0xd1 ,0x00 ,0xed ,0x20 ,0xfc ,0xb1 ,0x5b ,0x6a ,0xcb ,0xbe ,0x39 ,0x4a ,0x4c ,0x58 ,0xcf,\n",
        "  0xd0 ,0xef ,0xaa ,0xfb ,0x43 ,0x4d ,0x33 ,0x85 ,0x45 ,0xf9 ,0x02 ,0x7f ,0x50 ,0x3c ,0x9f ,0xa8,\n",
        "  0x51 ,0xa3 ,0x40 ,0x8f ,0x92 ,0x9d ,0x38 ,0xf5 ,0xbc ,0xb6 ,0xda ,0x21 ,0x10 ,0xff ,0xf3 ,0xd2,\n",
        "  0xcd ,0x0c ,0x13 ,0xec ,0x5f ,0x97 ,0x44 ,0x17 ,0xc4 ,0xa7 ,0x7e ,0x3d ,0x64 ,0x5d ,0x19 ,0x73,\n",
        "  0x60 ,0x81 ,0x4f ,0xdc ,0x22 ,0x2a ,0x90 ,0x88 ,0x46 ,0xee ,0xb8 ,0x14 ,0xde ,0x5e ,0x0b ,0xdb,\n",
        "  0xe0 ,0x32 ,0x3a ,0x0a ,0x49 ,0x06 ,0x24 ,0x5c ,0xc2 ,0xd3 ,0xac ,0x62 ,0x91 ,0x95 ,0xe4 ,0x79,\n",
        "  0xe7 ,0xc8 ,0x37 ,0x6d ,0x8d ,0xd5 ,0x4e ,0xa9 ,0x6c ,0x56 ,0xf4 ,0xea ,0x65 ,0x7a ,0xae ,0x08,\n",
        "  0xba ,0x78 ,0x25 ,0x2e ,0x1c ,0xa6 ,0xb4 ,0xc6 ,0xe8 ,0xdd ,0x74 ,0x1f ,0x4b ,0xbd ,0x8b ,0x8a,\n",
        "  0x70 ,0x3e ,0xb5 ,0x66 ,0x48 ,0x03 ,0xf6 ,0x0e ,0x61 ,0x35 ,0x57 ,0xb9 ,0x86 ,0xc1 ,0x1d ,0x9e,\n",
        "  0xe1 ,0xf8 ,0x98 ,0x11 ,0x69 ,0xd9 ,0x8e ,0x94 ,0x9b ,0x1e ,0x87 ,0xe9 ,0xce ,0x55 ,0x28 ,0xdf,\n",
        "  0x8c ,0xa1 ,0x89 ,0x0d ,0xbf ,0xe6 ,0x42 ,0x68 ,0x41 ,0x99 ,0x2d ,0x0f ,0xb0 ,0x54 ,0xbb ,0x16]"
      ]
    },
    {
      "cell_type": "code",
      "execution_count": 46,
      "id": "9f6adffd-8244-4910-91af-96b17a2fbc37",
      "metadata": {
        "id": "9f6adffd-8244-4910-91af-96b17a2fbc37"
      },
      "outputs": [],
      "source": [
        "roundKey = [\n",
        "     0x2b, 0x7e, 0x15, 0x16,\n",
        "     0x28, 0xae, 0xd2, 0xa6,\n",
        "     0xab, 0xf7, 0x15, 0x88,\n",
        "     0x09, 0xcf, 0x4f, 0x3c, #0\n",
        "\n",
        "     0xa0, 0xfa, 0xfe, 0x17,\n",
        "     0x88, 0x54, 0x2c, 0xb1,\n",
        "     0x23, 0xa3, 0x39, 0x39,\n",
        "     0x2a, 0x6c, 0x76, 0x05, #1\n",
        "\n",
        "     0xf2, 0xc2, 0x95, 0xf2,\n",
        "     0x7a, 0x96, 0xb9, 0x43,\n",
        "     0x59, 0x35, 0x80, 0x7a,\n",
        "     0x3d, 0x80, 0x47, 0x7d, #2\n",
        "\n",
        "     0x47, 0x16, 0xfe, 0x3e,\n",
        "     0x1e, 0x23, 0x7e, 0x44,\n",
        "     0x6d, 0x7a, 0x88, 0x3b,\n",
        "     0xef, 0x44, 0xa5, 0x41, #3\n",
        "\n",
        "     0xa8, 0x52, 0x5b, 0x7f,\n",
        "     0xb6, 0x71, 0x25, 0x3b,\n",
        "     0xdb, 0x0b, 0xad, 0x00,\n",
        "     0xd4, 0xd1, 0xc6, 0xf8, #4\n",
        "\n",
        "     0x7c, 0x83, 0x9d, 0x87,\n",
        "     0xca, 0xf2, 0xb8, 0xbc,\n",
        "     0x11, 0xf9, 0x15, 0xbc,\n",
        "     0x6d, 0x88, 0xa3, 0x7a, #5\n",
        "\n",
        "     0x11, 0x0b, 0x3e, 0xfd,\n",
        "     0xdb, 0xf9, 0x86, 0x41,\n",
        "     0xca, 0x00, 0x93, 0xfd,\n",
        "     0x4e, 0x54, 0xf7, 0x0e, #6\n",
        "\n",
        "     0x5f, 0x5f, 0xc9, 0xf3,\n",
        "     0x84, 0xa6, 0x4f, 0xb2,\n",
        "     0x4e, 0xa6, 0xdc, 0x4f,\n",
        "     0xea, 0xd2, 0x73, 0x21, #7\n",
        "\n",
        "     0xb5, 0x8d, 0xba, 0xd2,\n",
        "     0x31, 0x2b, 0xf5, 0x60,\n",
        "     0x7f, 0x8d, 0x29, 0x2f,\n",
        "     0xac, 0x77, 0x66, 0xf3, #8\n",
        "\n",
        "     0x19, 0xfa, 0xdc, 0x21,\n",
        "     0x28, 0xd1, 0x29, 0x41,\n",
        "     0x57, 0x5c, 0x00, 0x6e,\n",
        "     0xd0, 0x14, 0xf9, 0xa8, #9\n",
        "\n",
        "     0xc9, 0xee, 0x25, 0x89,\n",
        "     0xe1, 0x3f, 0x0c, 0xc8,\n",
        "     0xb6, 0x63, 0x0c, 0xa6,\n",
        "     0x94, 0x1f, 0x16, 0xaa #10\n",
        "]"
      ]
    },
    {
      "cell_type": "markdown",
      "id": "c49c88c1-290f-4951-88c8-ceaafa0c948d",
      "metadata": {
        "id": "c49c88c1-290f-4951-88c8-ceaafa0c948d"
      },
      "source": [
        "### MixColumn에서 ConstantMatrix"
      ]
    },
    {
      "cell_type": "code",
      "execution_count": 47,
      "id": "5dde3873-b112-4d2d-8c25-b4ccf53ffac4",
      "metadata": {
        "id": "5dde3873-b112-4d2d-8c25-b4ccf53ffac4"
      },
      "outputs": [],
      "source": [
        "constant=[\n",
        "    [0x02,0x03,0x01,0x01],\n",
        "    [0x01,0x02,0x03,0x01],\n",
        "    [0x01,0x01,0x02,0x03],\n",
        "    [0x03,0x01,0x01,0x02]\n",
        "]"
      ]
    },
    {
      "cell_type": "markdown",
      "id": "0f285b10-470d-4f08-8c4d-dfddc9cfc52c",
      "metadata": {
        "id": "0f285b10-470d-4f08-8c4d-dfddc9cfc52c"
      },
      "source": [
        "### GF(256)기반 곱셈하는 함수(Shifting 연산 구현)"
      ]
    },
    {
      "cell_type": "code",
      "execution_count": 48,
      "id": "fa0b6225-f3b3-4ad4-ace3-791999bf62aa",
      "metadata": {
        "id": "fa0b6225-f3b3-4ad4-ace3-791999bf62aa"
      },
      "outputs": [],
      "source": [
        "def gf_multiply(a, b, modulus=0x11B):\n",
        "    result = 0\n",
        "    while b:\n",
        "        if b & 1:\n",
        "            result ^= a\n",
        "        a <<= 1\n",
        "        if a & 0x100:\n",
        "            a ^= modulus\n",
        "        b >>= 1\n",
        "    return result & 0xFF\n"
      ]
    },
    {
      "cell_type": "markdown",
      "id": "8a06fc9d-4dfc-4c30-8307-ff56aba78cd5",
      "metadata": {
        "id": "8a06fc9d-4dfc-4c30-8307-ff56aba78cd5"
      },
      "source": [
        "### InitialRound \n"
      ]
    },
    {
      "cell_type": "code",
      "execution_count": 49,
      "id": "57289648-3019-4475-bcac-b0922c34c776",
      "metadata": {
        "id": "57289648-3019-4475-bcac-b0922c34c776"
      },
      "outputs": [],
      "source": [
        "def InitialRound(state):\n",
        "    for i in range(4) :\n",
        "        for j in range(4):\n",
        "            state[i][j] = ord(state[i][j]) ^ roundKey[4*i +j]\n",
        "    print(\"\\n\")        \n",
        "    print(\"IntialRound 결과 최종결과 state는\" +str(state) + \"입니다\")        "
      ]
    },
    {
      "cell_type": "markdown",
      "id": "70b7b637-fde5-46d7-bc59-93041918646b",
      "metadata": {
        "id": "70b7b637-fde5-46d7-bc59-93041918646b"
      },
      "source": [
        "### SubBytes 구현\n"
      ]
    },
    {
      "cell_type": "code",
      "execution_count": 50,
      "id": "84d272b8-fcd6-4e5b-be76-e7064c51758a",
      "metadata": {
        "id": "84d272b8-fcd6-4e5b-be76-e7064c51758a"
      },
      "outputs": [],
      "source": [
        "def SubBytes(state):\n",
        "    for i in range(4):\n",
        "        for j in range(4):\n",
        "              state[i][j] = S_Box[state[i][j]]\n",
        "              "
      ]
    },
    {
      "cell_type": "markdown",
      "id": "88fad794-9f2f-4a36-8834-6a02d655d59b",
      "metadata": {
        "id": "88fad794-9f2f-4a36-8834-6a02d655d59b"
      },
      "source": [
        "### ShiftRows\n"
      ]
    },
    {
      "cell_type": "code",
      "execution_count": 51,
      "id": "553f01ec-93da-4bf5-b027-09795be1bf07",
      "metadata": {
        "id": "553f01ec-93da-4bf5-b027-09795be1bf07"
      },
      "outputs": [],
      "source": [
        "def ShiftRows(state):\n",
        "    tmp = 0\n",
        "    \n",
        "    #Row 1 : 1 left shifting\n",
        "    tmp = state[1][0]\n",
        "    state[1][0] = state[1][1]\n",
        "    state[1][1] = state[1][2]\n",
        "    state[1][2] = state[1][3]\n",
        "    state[1][3] = tmp\n",
        "\n",
        "    #Row 2 : 2 left shifting\n",
        "    tmp = state[2][0];\n",
        "    state[2][0] = state[2][2]\n",
        "    state[2][2] = tmp\n",
        "    tmp = state[2][1]\n",
        "    state[2][1] = state[2][3]\n",
        "    state[2][3] = tmp\n",
        "\n",
        "    #Row 3 : 3 left shifting\n",
        "    tmp = state[3][2]\n",
        "    state[3][2] = state[3][1]\n",
        "    state[3][1] = state[3][0]\n",
        "    state[3][0] = state[3][3]\n",
        "    state[3][3] = tmp"
      ]
    },
    {
      "cell_type": "markdown",
      "id": "7b4bdc45-1a48-4e8f-9871-bf6ec487e6ec",
      "metadata": {
        "id": "7b4bdc45-1a48-4e8f-9871-bf6ec487e6ec"
      },
      "source": [
        "### MixColumns"
      ]
    },
    {
      "cell_type": "code",
      "execution_count": 52,
      "id": "49b64ff2-8fa0-433d-aa4e-815dc7ace966",
      "metadata": {
        "id": "49b64ff2-8fa0-433d-aa4e-815dc7ace966"
      },
      "outputs": [],
      "source": [
        "def MixColumns(state):\n",
        "    temp1=[0]*16\n",
        "    for i in range(4):\n",
        "        for j in range(4):\n",
        "            temp1[4*i+j] = gf_multiply(state[i][j],constant[i][j],modulus=0x11B)\n",
        "    for i in range(4):\n",
        "        for j in range(4):\n",
        "            state[i][j]= temp1[4*i+j]"
      ]
    },
    {
      "cell_type": "markdown",
      "id": "f1644f60-862a-419a-8542-dda06008eb35",
      "metadata": {
        "id": "f1644f60-862a-419a-8542-dda06008eb35"
      },
      "source": [
        "### AddRoundKey .\n"
      ]
    },
    {
      "cell_type": "code",
      "execution_count": 53,
      "id": "8fd1b763-80ed-4edf-8b5c-bf13583c9f2e",
      "metadata": {
        "id": "8fd1b763-80ed-4edf-8b5c-bf13583c9f2e"
      },
      "outputs": [],
      "source": [
        "def AddRoundKey(state,numberOfRounds):\n",
        "    for i in range(4):\n",
        "        for j in range(4):\n",
        "            state[i][j] ^= roundKey[16 * numberOfRounds + 4*i +j]"
      ]
    },
    {
      "cell_type": "markdown",
      "id": "14286333",
      "metadata": {
        "id": "14286333"
      },
      "source": [
        "### generalRound"
      ]
    },
    {
      "cell_type": "code",
      "execution_count": 54,
      "id": "5d71c07c-51ad-4601-9484-39a6225e321b",
      "metadata": {
        "id": "5d71c07c-51ad-4601-9484-39a6225e321b"
      },
      "outputs": [],
      "source": [
        "def generalRound(state, numberOfRounds,Round):\n",
        "    for i in range(Round):\n",
        "        SubBytes(state)\n",
        "        ShiftRows(state)\n",
        "        MixColumns(state)\n",
        "        AddRoundKey(state,numberOfRounds)\n",
        "        numberOfRounds +=1\n",
        "        print(str(i+1)+\"라운드 state값은\" +str(state) +\"입니다\")"
      ]
    },
    {
      "cell_type": "markdown",
      "id": "d5e1f041",
      "metadata": {
        "id": "d5e1f041"
      },
      "source": [
        "### FinalRound"
      ]
    },
    {
      "cell_type": "code",
      "execution_count": 55,
      "id": "bb44cf0e-3ff2-4f88-af55-e20709501991",
      "metadata": {
        "id": "bb44cf0e-3ff2-4f88-af55-e20709501991"
      },
      "outputs": [],
      "source": [
        "def FinalRound(state, numberOfRounds):\n",
        "    SubBytes(state)\n",
        "    ShiftRows(state)\n",
        "    AddRoundKey(state,numberOfRounds)\n",
        "    print(\"FinalRound(10Round) 결과 state값은\"+ str(state) + \"입니다\")"
      ]
    },
    {
      "cell_type": "markdown",
      "id": "05eefd45",
      "metadata": {
        "id": "05eefd45"
      },
      "source": [
        "### AES_Encrypt()"
      ]
    },
    {
      "cell_type": "code",
      "execution_count": 56,
      "id": "d0d539da-45d8-4f40-83a3-6f5ea8983949",
      "metadata": {
        "id": "d0d539da-45d8-4f40-83a3-6f5ea8983949"
      },
      "outputs": [],
      "source": [
        "def AES_Encrypt(state) :\n",
        "        \n",
        "    numberOfRounds = 1\n",
        "    \n",
        "    InitialRound(state)\n",
        "    \n",
        "    Round = 9\n",
        "    \n",
        "   \n",
        "    generalRound(state,numberOfRounds,Round)\n",
        "       \n",
        "    \n",
        "    FinalRound(state, numberOfRounds)\n",
        "    "
      ]
    },
    {
      "cell_type": "markdown",
      "id": "37007c87",
      "metadata": {
        "id": "37007c87"
      },
      "source": [
        "### 결과"
      ]
    },
    {
      "cell_type": "code",
      "execution_count": 57,
      "id": "bfe2b634-decd-4ca1-9936-9c24e218efbd",
      "metadata": {
        "scrolled": true,
        "colab": {
          "base_uri": "https://localhost:8080/"
        },
        "id": "bfe2b634-decd-4ca1-9936-9c24e218efbd",
        "outputId": "89901459-6cb7-4fef-8f37-a8527fd05816"
      },
      "outputs": [
        {
          "output_type": "stream",
          "name": "stdout",
          "text": [
            "\n",
            "\n",
            "IntialRound 결과 최종결과 state는[[114, 78, 64, 66], [105, 235, 139, 233], [254, 185, 82, 185], [59, 252, 123, 8]]입니다\n",
            "1라운드 state값은[[32, 139, 247, 59], [97, 46, 14, 72], [35, 245, 84, 195], [122, 142, 198, 71]]입니다\n",
            "2라운드 state값은[[135, 133, 253, 16], [75, 219, 79, 172], [121, 27, 204, 75], [198, 90, 94, 14]]입니다\n",
            "3라운드 state값은[[105, 180, 170, 244], [167, 48, 214, 247], [38, 201, 255, 209], [9, 240, 27, 241]]입니다\n",
            "4라운드 state값은[[65, 222, 247, 192], [178, 134, 157, 103], [205, 53, 88, 124], [44, 208, 74, 189]]입니다\n",
            "5라운드 state값은[[97, 164, 245, 61], [142, 78, 44, 139], [123, 233, 116, 29], [227, 249, 211, 205]]입니다\n",
            "6라운드 state값은[[212, 208, 216, 218], [244, 27, 193, 88], [88, 164, 209, 223], [146, 69, 110, 194]]입니다\n",
            "7라운드 state값은[[207, 207, 168, 164], [43, 86, 241, 13], [112, 56, 8, 148], [133, 157, 29, 4]]입니다\n",
            "8라운드 state값은[[186, 8, 120, 155], [128, 114, 151, 145], [79, 175, 139, 38], [161, 224, 56, 160]]입니다\n",
            "9라운드 state값은[[234, 170, 96, 53], [104, 218, 177, 140], [106, 171, 19, 229], [235, 38, 24, 166]]입니다\n",
            "FinalRound(10Round) 결과 state값은[[39, 86, 46, 129], [223, 156, 72, 244], [94, 122, 59, 91], [14, 133, 129, 168]]입니다\n",
            "암호화 한 결과 + state[0] [0]  값은 39입니다\n",
            "암호화 한 결과 + state[0] [1]  값은 86입니다\n",
            "암호화 한 결과 + state[0] [2]  값은 46입니다\n",
            "암호화 한 결과 + state[0] [3]  값은 129입니다\n",
            "암호화 한 결과 + state[1] [0]  값은 223입니다\n",
            "암호화 한 결과 + state[1] [1]  값은 156입니다\n",
            "암호화 한 결과 + state[1] [2]  값은 72입니다\n",
            "암호화 한 결과 + state[1] [3]  값은 244입니다\n",
            "암호화 한 결과 + state[2] [0]  값은 94입니다\n",
            "암호화 한 결과 + state[2] [1]  값은 122입니다\n",
            "암호화 한 결과 + state[2] [2]  값은 59입니다\n",
            "암호화 한 결과 + state[2] [3]  값은 91입니다\n",
            "암호화 한 결과 + state[3] [0]  값은 14입니다\n",
            "암호화 한 결과 + state[3] [1]  값은 133입니다\n",
            "암호화 한 결과 + state[3] [2]  값은 129입니다\n",
            "암호화 한 결과 + state[3] [3]  값은 168입니다\n",
            "0:00:01.004450 sec\n"
          ]
        }
      ],
      "source": [
        "#main\n",
        "import time\n",
        "import datetime\n",
        "\n",
        "start = time.time()\n",
        "time.sleep(1)\n",
        "AES_Encrypt(state)\n",
        "sec = time.time() -start\n",
        "for i in range(4) :\n",
        "    for j in range(4):\n",
        "        print(\"암호화 한 결과 + state[\" + str(i) +\"] [\" + str(j) +\"]  값은 \" + str(state[i][j]) + \"입니다\") \n",
        "\n",
        "times=str(datetime.timedelta(seconds=sec))\n",
        "print(f\"{times} sec\")"
      ]
    },
    {
      "cell_type": "code",
      "execution_count": 57,
      "id": "0a85ff7a",
      "metadata": {
        "id": "0a85ff7a"
      },
      "outputs": [],
      "source": []
    }
  ],
  "metadata": {
    "kernelspec": {
      "display_name": "Python 3 (ipykernel)",
      "language": "python",
      "name": "python3"
    },
    "language_info": {
      "codemirror_mode": {
        "name": "ipython",
        "version": 3
      },
      "file_extension": ".py",
      "mimetype": "text/x-python",
      "name": "python",
      "nbconvert_exporter": "python",
      "pygments_lexer": "ipython3",
      "version": "3.9.13"
    },
    "colab": {
      "provenance": []
    }
  },
  "nbformat": 4,
  "nbformat_minor": 5
}