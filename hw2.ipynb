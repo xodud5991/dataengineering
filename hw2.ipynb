{
 "cells": [
  {
   "cell_type": "code",
   "execution_count": 1,
   "id": "93df6ab7",
   "metadata": {},
   "outputs": [],
   "source": [
    "# 1 \n",
    "subjects = [\"physics\", \"calculus\", \"poetry\", \"history\"]"
   ]
  },
  {
   "cell_type": "code",
   "execution_count": 1,
   "id": "b594f055",
   "metadata": {},
   "outputs": [],
   "source": [
    "# 2\n",
    "grades = [98, 97, 85, 88]"
   ]
  },
  {
   "cell_type": "code",
   "execution_count": 2,
   "id": "fef92ef4",
   "metadata": {},
   "outputs": [],
   "source": [
    "#3\n",
    "gradebook=[[\"physics\",98],[\"calculus\",97],[\"poetry\",85],[\"history\",88]]"
   ]
  },
  {
   "cell_type": "code",
   "execution_count": 3,
   "id": "08dcff0e",
   "metadata": {},
   "outputs": [
    {
     "name": "stdout",
     "output_type": "stream",
     "text": [
      "[['physics', 98], ['calculus', 97], ['poetry', 85], ['history', 88]]\n"
     ]
    }
   ],
   "source": [
    "#4\n",
    "print(gradebook)"
   ]
  },
  {
   "cell_type": "code",
   "execution_count": 4,
   "id": "fe4490f8",
   "metadata": {},
   "outputs": [],
   "source": [
    "#5\n",
    "gradebook.append([\"computer science\",100])"
   ]
  },
  {
   "cell_type": "code",
   "execution_count": 5,
   "id": "084e1b8e",
   "metadata": {},
   "outputs": [],
   "source": [
    "#6\n",
    "gradebook.append([\"visual arts\",93])"
   ]
  },
  {
   "cell_type": "code",
   "execution_count": 6,
   "id": "f766d5ba",
   "metadata": {},
   "outputs": [],
   "source": [
    "#7\n",
    "gradebook[5][1]=98"
   ]
  },
  {
   "cell_type": "code",
   "execution_count": 7,
   "id": "39e4deb1",
   "metadata": {},
   "outputs": [],
   "source": [
    "#8\n",
    "gradebook[2].remove(85)"
   ]
  },
  {
   "cell_type": "code",
   "execution_count": 8,
   "id": "4a29256c",
   "metadata": {},
   "outputs": [],
   "source": [
    "#9\n",
    "gradebook[2].append(\"Pass\")"
   ]
  },
  {
   "cell_type": "code",
   "execution_count": 9,
   "id": "ff541bd3",
   "metadata": {},
   "outputs": [],
   "source": [
    "#10\n",
    "last_semester_gradebook = [[\"politics\", 80], [\"latin\", 96], [\"dance\", 97], [\"architecture\", 65]]"
   ]
  },
  {
   "cell_type": "code",
   "execution_count": 10,
   "id": "68a66bcd",
   "metadata": {},
   "outputs": [
    {
     "name": "stdout",
     "output_type": "stream",
     "text": [
      "[['politics', 80], ['latin', 96], ['dance', 97], ['architecture', 65], ['physics', 98], ['calculus', 97], ['poetry', 'Pass'], ['history', 88], ['computer science', 100], ['visual arts', 98]]\n"
     ]
    }
   ],
   "source": [
    "full_gradebook=last_semester_gradebook+gradebook\n",
    "print(full_gradebook)"
   ]
  }
 ],
 "metadata": {
  "kernelspec": {
   "display_name": "Python 3 (ipykernel)",
   "language": "python",
   "name": "python3"
  },
  "language_info": {
   "codemirror_mode": {
    "name": "ipython",
    "version": 3
   },
   "file_extension": ".py",
   "mimetype": "text/x-python",
   "name": "python",
   "nbconvert_exporter": "python",
   "pygments_lexer": "ipython3",
   "version": "3.9.12"
  }
 },
 "nbformat": 4,
 "nbformat_minor": 5
}
