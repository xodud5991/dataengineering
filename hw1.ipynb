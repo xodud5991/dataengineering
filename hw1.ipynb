{
 "cells": [
  {
   "cell_type": "code",
   "execution_count": 1,
   "id": "065e693a",
   "metadata": {},
   "outputs": [],
   "source": [
    "# 1\n",
    "lovely_loveseat_description = \"Lovely Loveseat. Tufted polyester blend on wood. 32 inches high x 40 inches wide x 30 inches deep. Red or white.\""
   ]
  },
  {
   "cell_type": "code",
   "execution_count": 2,
   "id": "c2c97405",
   "metadata": {},
   "outputs": [],
   "source": [
    "# 2\n",
    "lovely_loveseat_price = 254.00"
   ]
  },
  {
   "cell_type": "code",
   "execution_count": 3,
   "id": "aa5cb851",
   "metadata": {},
   "outputs": [],
   "source": [
    "# 3\n",
    "stylish_settee_descriptio = \"Stylish Settee. Faux leather on birch. 29.50 inches high x 54.75 inches wide x 28 inches deep. Black.\""
   ]
  },
  {
   "cell_type": "code",
   "execution_count": 4,
   "id": "0d5784eb",
   "metadata": {},
   "outputs": [],
   "source": [
    "# 4\n",
    "stylish_settee_price = 180.50"
   ]
  },
  {
   "cell_type": "code",
   "execution_count": 5,
   "id": "e0f191d8",
   "metadata": {},
   "outputs": [],
   "source": [
    "# 5\n",
    "luxurious_lamp_description = \"Luxurious Lamp. Glass and iron. 36 inches tall. Brown with cream shade.\""
   ]
  },
  {
   "cell_type": "code",
   "execution_count": 6,
   "id": "b24e6dce",
   "metadata": {},
   "outputs": [],
   "source": [
    "# 6\n",
    "luxurious_lamp_price = 52.15"
   ]
  },
  {
   "cell_type": "code",
   "execution_count": 7,
   "id": "525a3854",
   "metadata": {},
   "outputs": [],
   "source": [
    "# 7\n",
    "sales_tax = .088"
   ]
  },
  {
   "cell_type": "code",
   "execution_count": 8,
   "id": "49e24392",
   "metadata": {},
   "outputs": [],
   "source": [
    "# 8\n",
    "customer_one_total = 0"
   ]
  },
  {
   "cell_type": "code",
   "execution_count": 9,
   "id": "8a94c163",
   "metadata": {},
   "outputs": [],
   "source": [
    "# 9\n",
    "customer_one_itemization = \"\""
   ]
  },
  {
   "cell_type": "code",
   "execution_count": 10,
   "id": "c94ed74f",
   "metadata": {},
   "outputs": [],
   "source": [
    "# 10\n",
    "customer_one_total = customer_one_total + lovely_loveseat_price"
   ]
  },
  {
   "cell_type": "code",
   "execution_count": 11,
   "id": "03628159",
   "metadata": {},
   "outputs": [],
   "source": [
    "# 11\n",
    "customer_one_itemization = lovely_loveseat_description"
   ]
  },
  {
   "cell_type": "code",
   "execution_count": 12,
   "id": "c87b021c",
   "metadata": {},
   "outputs": [],
   "source": [
    "# 12\n",
    "customer_one_total = customer_one_total + luxurious_lamp_price"
   ]
  },
  {
   "cell_type": "code",
   "execution_count": 13,
   "id": "7d38e2ab",
   "metadata": {},
   "outputs": [],
   "source": [
    "# 13\n",
    "customer_one_itemization = lovely_loveseat_description + luxurious_lamp_description"
   ]
  },
  {
   "cell_type": "code",
   "execution_count": 14,
   "id": "3c654b16",
   "metadata": {},
   "outputs": [],
   "source": [
    "# 14\n",
    "customer_one_tax = customer_one_total * sales_tax"
   ]
  },
  {
   "cell_type": "code",
   "execution_count": 16,
   "id": "2b37d6ae",
   "metadata": {},
   "outputs": [],
   "source": [
    "# 15\n",
    "customer_one_total = customer_one_total + customer_one_tax"
   ]
  },
  {
   "cell_type": "code",
   "execution_count": 26,
   "id": "8d3f08fd",
   "metadata": {},
   "outputs": [
    {
     "name": "stdout",
     "output_type": "stream",
     "text": [
      "Customer One Items:\n",
      "Lovely Loveseat. Tufted polyester blend on wood. 32 inches high x 40 inches wide x 30 inches deep. Red or white.Luxurious Lamp. Glass and iron. 36 inches tall. Brown with cream shade.\n",
      "Customer One Total:\n",
      "333.09119999999996\n"
     ]
    }
   ],
   "source": [
    "# 16, 17, \n",
    "print(\"Customer One Items:\")\n",
    "print(customer_one_itemization)\n",
    "print(\"Customer One Total:\")\n",
    "print(customer_one_total)"
   ]
  }
 ],
 "metadata": {
  "kernelspec": {
   "display_name": "Python 3 (ipykernel)",
   "language": "python",
   "name": "python3"
  },
  "language_info": {
   "codemirror_mode": {
    "name": "ipython",
    "version": 3
   },
   "file_extension": ".py",
   "mimetype": "text/x-python",
   "name": "python",
   "nbconvert_exporter": "python",
   "pygments_lexer": "ipython3",
   "version": "3.9.12"
  }
 },
 "nbformat": 4,
 "nbformat_minor": 5
}
